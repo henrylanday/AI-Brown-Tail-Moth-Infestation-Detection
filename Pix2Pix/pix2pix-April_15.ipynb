{
 "cells": [
  {
   "cell_type": "code",
   "execution_count": 1,
   "metadata": {
    "colab": {
     "base_uri": "https://localhost:8080/"
    },
    "execution": {
     "iopub.execute_input": "2024-05-08T23:02:40.443432Z",
     "iopub.status.busy": "2024-05-08T23:02:40.442253Z",
     "iopub.status.idle": "2024-05-08T23:02:40.452410Z",
     "shell.execute_reply": "2024-05-08T23:02:40.451838Z",
     "shell.execute_reply.started": "2024-05-08T23:02:40.443394Z"
    },
    "executionInfo": {
     "elapsed": 29109,
     "status": "ok",
     "timestamp": 1713975654381,
     "user": {
      "displayName": "Henry Landay",
      "userId": "09240157530199771829"
     },
     "user_tz": 240
    },
    "id": "ZDkh066rP3RX",
    "outputId": "f98adb6d-3f90-48a5-9863-8f2e84fae9e2"
   },
   "outputs": [],
   "source": [
    "# %pip install albumentations"
   ]
  },
  {
   "cell_type": "code",
   "execution_count": 2,
   "metadata": {
    "colab": {
     "base_uri": "https://localhost:8080/"
    },
    "execution": {
     "iopub.execute_input": "2024-05-08T23:02:41.139948Z",
     "iopub.status.busy": "2024-05-08T23:02:41.138995Z",
     "iopub.status.idle": "2024-05-08T23:02:41.146513Z",
     "shell.execute_reply": "2024-05-08T23:02:41.145998Z",
     "shell.execute_reply.started": "2024-05-08T23:02:41.139914Z"
    },
    "executionInfo": {
     "elapsed": 391,
     "status": "ok",
     "timestamp": 1713975658523,
     "user": {
      "displayName": "Henry Landay",
      "userId": "09240157530199771829"
     },
     "user_tz": 240
    },
    "id": "5OtSoBXtXUon",
    "outputId": "08bc00bd-73ab-4000-9d3e-0fca1eef7d06"
   },
   "outputs": [
    {
     "name": "stdout",
     "output_type": "stream",
     "text": [
      "/notebooks/Pix2Pix\n"
     ]
    }
   ],
   "source": [
    "%cd /notebooks/Pix2Pix"
   ]
  },
  {
   "cell_type": "code",
   "execution_count": 3,
   "metadata": {
    "colab": {
     "base_uri": "https://localhost:8080/"
    },
    "execution": {
     "iopub.execute_input": "2024-05-08T23:02:43.743214Z",
     "iopub.status.busy": "2024-05-08T23:02:43.742415Z",
     "iopub.status.idle": "2024-05-08T23:02:44.530687Z",
     "shell.execute_reply": "2024-05-08T23:02:44.529897Z",
     "shell.execute_reply.started": "2024-05-08T23:02:43.743183Z"
    },
    "executionInfo": {
     "elapsed": 1424,
     "status": "ok",
     "timestamp": 1713975663554,
     "user": {
      "displayName": "Henry Landay",
      "userId": "09240157530199771829"
     },
     "user_tz": 240
    },
    "id": "4O-u22DVYldZ",
    "outputId": "e3046cda-232e-477e-ca62-db6fea234a41"
   },
   "outputs": [
    {
     "name": "stdout",
     "output_type": "stream",
     "text": [
      "README.md         dataset_maps.py               pix2pix-April_15.ipynb\n",
      "\u001b[0m\u001b[01;34m__pycache__\u001b[0m/      disc.pth.tar                  \u001b[01;34mresults\u001b[0m/\n",
      "config.py         disc_SEN12MS_april30.pth.tar  \u001b[01;34msaved_images\u001b[0m/\n",
      "\u001b[01;34mdata\u001b[0m/             discriminator_model.py        saved_images.zip\n",
      "\u001b[01;34mdata_anime\u001b[0m/       \u001b[01;34mevaluation\u001b[0m/                   \u001b[01;34mtest_drone_images\u001b[0m/\n",
      "\u001b[01;34mdata_maps\u001b[0m/        gen.pth.tar                   train.py\n",
      "dataset.py        gen_SEN12MS_april30.pth.tar   utils.py\n",
      "dataset_anime.py  generator_model.py\n"
     ]
    }
   ],
   "source": [
    "%ls"
   ]
  },
  {
   "cell_type": "code",
   "execution_count": 6,
   "metadata": {
    "colab": {
     "base_uri": "https://localhost:8080/"
    },
    "execution": {
     "iopub.execute_input": "2024-04-30T13:12:26.926622Z",
     "iopub.status.busy": "2024-04-30T13:12:26.925996Z",
     "iopub.status.idle": "2024-04-30T17:31:38.967816Z",
     "shell.execute_reply": "2024-04-30T17:31:38.966788Z",
     "shell.execute_reply.started": "2024-04-30T13:12:26.926588Z"
    },
    "id": "jzTaKBBoZXZa",
    "outputId": "65aa8199-8f1c-4d83-a3cf-d0bced821c83"
   },
   "outputs": [
    {
     "name": "stdout",
     "output_type": "stream",
     "text": [
      "100%|████████████| 9033/9033 [15:48<00:00,  9.53it/s, D_fake=0.148, D_real=0.93]\n",
      "=> Saving checkpoint\n",
      "=> Saving checkpoint\n",
      "100%|███████████| 9033/9033 [16:04<00:00,  9.37it/s, D_fake=0.107, D_real=0.957]\n",
      "100%|████████████| 9033/9033 [15:57<00:00,  9.44it/s, D_fake=0.29, D_real=0.284]\n",
      "100%|███████████| 9033/9033 [15:43<00:00,  9.57it/s, D_fake=0.226, D_real=0.824]\n",
      "100%|███████████| 9033/9033 [15:53<00:00,  9.48it/s, D_fake=0.229, D_real=0.826]\n",
      "100%|███████████| 9033/9033 [16:13<00:00,  9.28it/s, D_fake=0.324, D_real=0.591]\n",
      "=> Saving checkpoint\n",
      "=> Saving checkpoint\n",
      "100%|███████████| 9033/9033 [16:04<00:00,  9.37it/s, D_fake=0.219, D_real=0.885]\n",
      "100%|███████████| 9033/9033 [15:52<00:00,  9.48it/s, D_fake=0.241, D_real=0.844]\n",
      "100%|███████████| 9033/9033 [15:47<00:00,  9.53it/s, D_fake=0.212, D_real=0.576]\n",
      "100%|███████████| 9033/9033 [16:13<00:00,  9.28it/s, D_fake=0.292, D_real=0.291]\n",
      "100%|███████████| 9033/9033 [16:37<00:00,  9.06it/s, D_fake=0.115, D_real=0.857]\n",
      "=> Saving checkpoint\n",
      "=> Saving checkpoint\n",
      "100%|███████████| 9033/9033 [15:58<00:00,  9.42it/s, D_fake=0.345, D_real=0.881]\n",
      "100%|███████████| 9033/9033 [16:01<00:00,  9.40it/s, D_fake=0.247, D_real=0.857]\n",
      "100%|███████████| 9033/9033 [16:06<00:00,  9.35it/s, D_fake=0.256, D_real=0.756]\n",
      "100%|████████████| 9033/9033 [15:56<00:00,  9.45it/s, D_fake=0.289, D_real=0.85]\n",
      "100%|███████████| 9033/9033 [15:56<00:00,  9.44it/s, D_fake=0.255, D_real=0.511]\n",
      "=> Saving checkpoint\n",
      "=> Saving checkpoint\n",
      " 17%|█▉         | 1569/9033 [02:44<13:51,  8.98it/s, D_fake=0.166, D_real=0.932]^C\n",
      " 17%|█▉         | 1569/9033 [02:44<13:02,  9.54it/s, D_fake=0.166, D_real=0.932]\n",
      "Traceback (most recent call last):\n",
      "  File \"/notebooks/pix2pix/Pix2Pix/train.py\", line 99, in <module>\n",
      "    main()\n",
      "  File \"/notebooks/pix2pix/Pix2Pix/train.py\", line 87, in main\n",
      "    train_fn(\n",
      "  File \"/notebooks/pix2pix/Pix2Pix/train.py\", line 48, in train_fn\n",
      "    g_scaler.step(opt_gen)\n",
      "  File \"/usr/local/lib/python3.9/dist-packages/torch/cuda/amp/grad_scaler.py\", line 338, in step\n",
      "    retval = self._maybe_opt_step(optimizer, optimizer_state, *args, **kwargs)\n",
      "  File \"/usr/local/lib/python3.9/dist-packages/torch/cuda/amp/grad_scaler.py\", line 284, in _maybe_opt_step\n",
      "    if not sum(v.item() for v in optimizer_state[\"found_inf_per_device\"].values()):\n",
      "  File \"/usr/local/lib/python3.9/dist-packages/torch/cuda/amp/grad_scaler.py\", line 284, in <genexpr>\n",
      "    if not sum(v.item() for v in optimizer_state[\"found_inf_per_device\"].values()):\n",
      "KeyboardInterrupt\n"
     ]
    }
   ],
   "source": [
    "!python3 /notebooks/Pix2Pix/train.py"
   ]
  },
  {
   "cell_type": "code",
   "execution_count": 8,
   "metadata": {
    "execution": {
     "iopub.execute_input": "2024-04-30T17:32:28.798930Z",
     "iopub.status.busy": "2024-04-30T17:32:28.798036Z",
     "iopub.status.idle": "2024-04-30T17:32:31.955121Z",
     "shell.execute_reply": "2024-04-30T17:32:31.954318Z",
     "shell.execute_reply.started": "2024-04-30T17:32:28.798899Z"
    }
   },
   "outputs": [
    {
     "name": "stdout",
     "output_type": "stream",
     "text": [
      "Collecting torchsummary\n",
      "  Downloading torchsummary-1.5.1-py3-none-any.whl (2.8 kB)\n",
      "Installing collected packages: torchsummary\n",
      "Successfully installed torchsummary-1.5.1\n",
      "\u001b[33mWARNING: Running pip as the 'root' user can result in broken permissions and conflicting behaviour with the system package manager. It is recommended to use a virtual environment instead: https://pip.pypa.io/warnings/venv\u001b[0m\u001b[33m\n",
      "\u001b[0mNote: you may need to restart the kernel to use updated packages.\n"
     ]
    }
   ],
   "source": [
    "%pip install torchsummary\n"
   ]
  },
  {
   "cell_type": "code",
   "execution_count": 15,
   "metadata": {
    "execution": {
     "iopub.execute_input": "2024-04-30T17:34:06.919091Z",
     "iopub.status.busy": "2024-04-30T17:34:06.918590Z",
     "iopub.status.idle": "2024-04-30T17:34:06.922255Z",
     "shell.execute_reply": "2024-04-30T17:34:06.921674Z",
     "shell.execute_reply.started": "2024-04-30T17:34:06.919068Z"
    },
    "executionInfo": {
     "elapsed": 7807,
     "status": "ok",
     "timestamp": 1713975676285,
     "user": {
      "displayName": "Henry Landay",
      "userId": "09240157530199771829"
     },
     "user_tz": 240
    },
    "id": "NW1THtXrQYuh"
   },
   "outputs": [],
   "source": [
    "import os\n",
    "import torch\n",
    "import numpy as np\n",
    "from PIL import Image\n",
    "from torchsummary import summary\n",
    "from generator_model import Generator\n",
    "from torchvision import transforms, utils\n",
    "import matplotlib.pyplot as plt"
   ]
  },
  {
   "cell_type": "code",
   "execution_count": 22,
   "metadata": {
    "colab": {
     "base_uri": "https://localhost:8080/"
    },
    "execution": {
     "iopub.execute_input": "2024-04-30T17:58:50.697652Z",
     "iopub.status.busy": "2024-04-30T17:58:50.696952Z",
     "iopub.status.idle": "2024-04-30T17:58:54.099986Z",
     "shell.execute_reply": "2024-04-30T17:58:54.099311Z",
     "shell.execute_reply.started": "2024-04-30T17:58:50.697626Z"
    },
    "executionInfo": {
     "elapsed": 58645,
     "status": "ok",
     "timestamp": 1713975737448,
     "user": {
      "displayName": "Henry Landay",
      "userId": "09240157530199771829"
     },
     "user_tz": 240
    },
    "id": "-TY0JUShMBNK",
    "outputId": "b38c80f0-3f35-4c99-adbe-721a2e8ffb17"
   },
   "outputs": [
    {
     "name": "stdout",
     "output_type": "stream",
     "text": [
      "Keys in loaded model data: dict_keys(['state_dict', 'optimizer'])\n",
      "\n"
     ]
    }
   ],
   "source": [
    "# model = torch.load('gen.pth.tar', map_location='cuda')  # Load directly to GPU\n",
    "model = Generator(in_channels=3, features=64)\n",
    "model_data = torch.load('gen_SEN12MS_april30.pth.tar', map_location='cuda')  # Load directly to CPU (map_location='cpu') or GPU (map_location='cuda')\n",
    "# model.eval() *args, **kwargs\n",
    "print(\"Keys in loaded model data:\", model_data.keys())\n",
    "# model = torch.nn.Module()\n",
    "model.load_state_dict(model_data['state_dict'])\n",
    "model.eval()\n",
    "print()"
   ]
  },
  {
   "cell_type": "code",
   "execution_count": 17,
   "metadata": {
    "execution": {
     "iopub.execute_input": "2024-04-30T17:34:14.581862Z",
     "iopub.status.busy": "2024-04-30T17:34:14.581294Z",
     "iopub.status.idle": "2024-04-30T17:34:14.585581Z",
     "shell.execute_reply": "2024-04-30T17:34:14.585013Z",
     "shell.execute_reply.started": "2024-04-30T17:34:14.581837Z"
    },
    "executionInfo": {
     "elapsed": 5,
     "status": "ok",
     "timestamp": 1713975737448,
     "user": {
      "displayName": "Henry Landay",
      "userId": "09240157530199771829"
     },
     "user_tz": 240
    },
    "id": "AhdoJp0dEY67"
   },
   "outputs": [],
   "source": [
    "def save_and_display_image(image, title, epoch, folder, filename):\n",
    "    # Denormalize and prepare the image\n",
    "    image = image * 0.5 + 0.5  # Rescale from [-1, 1] to [0, 1]\n",
    "    utils.save_image(image, os.path.join(folder, f\"{filename}_{epoch}.png\"))\n",
    "\n",
    "    # Display the image\n",
    "    plt.imshow(image.permute(1, 2, 0).numpy())\n",
    "    plt.title(title)\n",
    "    plt.axis('off')"
   ]
  },
  {
   "cell_type": "code",
   "execution_count": 18,
   "metadata": {
    "execution": {
     "iopub.execute_input": "2024-04-30T17:34:14.587039Z",
     "iopub.status.busy": "2024-04-30T17:34:14.586358Z",
     "iopub.status.idle": "2024-04-30T17:34:14.591775Z",
     "shell.execute_reply": "2024-04-30T17:34:14.591243Z",
     "shell.execute_reply.started": "2024-04-30T17:34:14.587010Z"
    },
    "executionInfo": {
     "elapsed": 1,
     "status": "ok",
     "timestamp": 1713925288784,
     "user": {
      "displayName": "Henry Landay",
      "userId": "09240157530199771829"
     },
     "user_tz": 240
    },
    "id": "pG6l5LHcqiKY"
   },
   "outputs": [],
   "source": [
    "def predict(img_path, output_folder='./saved_images'):\n",
    "    # Load the image\n",
    "    image = Image.open(img_path)\n",
    "    transform = transforms.Compose([\n",
    "        # transforms.Resize(3948),\n",
    "        # transforms.CenterCrop(3948),\n",
    "        transforms.Resize((256, 256)),\n",
    "        transforms.ToTensor(),\n",
    "        transforms.Normalize(mean=[0.5, 0.5, 0.5], std=[0.5, 0.5, 0.5])\n",
    "    ])\n",
    "    input_image = transform(image).unsqueeze(0)\n",
    "\n",
    "    # Directory for saving images\n",
    "    os.makedirs(output_folder, exist_ok=True)\n",
    "\n",
    "    # Generate the output\n",
    "    with torch.no_grad():\n",
    "        output_image = model(input_image)  # Assume model is globally defined or passed as a parameter\n",
    "        output_image = output_image * 0.5 + 0.5  # Rescale to [0, 1] if using tanh in the generator\n",
    "\n",
    "        # Construct a valid output filename\n",
    "        filename = os.path.basename(img_path)\n",
    "        filename_without_ext = os.path.splitext(filename)[0]\n",
    "        output_path = os.path.join(output_folder, f\"generated_image_{filename_without_ext}.png\")\n",
    "\n",
    "        utils.save_image(output_image, output_path)\n",
    "\n",
    "    print(f\"Image saved to {output_path}\")"
   ]
  },
  {
   "cell_type": "code",
   "execution_count": 19,
   "metadata": {
    "colab": {
     "base_uri": "https://localhost:8080/"
    },
    "execution": {
     "iopub.execute_input": "2024-04-30T17:42:36.310547Z",
     "iopub.status.busy": "2024-04-30T17:42:36.309907Z",
     "iopub.status.idle": "2024-04-30T17:42:53.460476Z",
     "shell.execute_reply": "2024-04-30T17:42:53.459694Z",
     "shell.execute_reply.started": "2024-04-30T17:42:36.310510Z"
    },
    "executionInfo": {
     "elapsed": 37650,
     "status": "ok",
     "timestamp": 1713925551072,
     "user": {
      "displayName": "Henry Landay",
      "userId": "09240157530199771829"
     },
     "user_tz": 240
    },
    "id": "49Wmk6ZfLTSi",
    "outputId": "a776fb71-74dc-46b7-efe2-a3536a9d7bcf"
   },
   "outputs": [
    {
     "name": "stdout",
     "output_type": "stream",
     "text": [
      "Image saved to ./saved_images/generated_image_Waterville Brown Tail 2022-4737.png\n",
      "Image saved to ./saved_images/generated_image_Waterville Brown Tail 2022-109.png\n",
      "Image saved to ./saved_images/generated_image_Waterville Brown Tail 2022-104.png\n",
      "Image saved to ./saved_images/generated_image_Waterville Brown Tail 2022-4743.png\n",
      "Image saved to ./saved_images/generated_image_Waterville Brown Tail 2022-34.png\n",
      "Image saved to ./saved_images/generated_image_Waterville Brown Tail 2022-84.png\n",
      "Image saved to ./saved_images/generated_image_Waterville Brown Tail 2022-59.png\n",
      "Image saved to ./saved_images/generated_image_Waterville Brown Tail 2022-89.png\n",
      "Image saved to ./saved_images/generated_image_Waterville Brown Tail 2022-4738.png\n",
      "Image saved to ./saved_images/generated_image_Waterville Brown Tail 2022-54.png\n",
      "Image saved to ./saved_images/generated_image_Waterville Brown Tail 2022-4740.png\n",
      "Image saved to ./saved_images/generated_image_Waterville Brown Tail 2022-94.png\n",
      "Image saved to ./saved_images/generated_image_Waterville Brown Tail 2022-4739.png\n",
      "Image saved to ./saved_images/generated_image_Waterville Brown Tail 2022-69.png\n",
      "Image saved to ./saved_images/generated_image_Waterville Brown Tail 2022-4745.png\n",
      "Image saved to ./saved_images/generated_image_Waterville Brown Tail 2022-4741.png\n",
      "Image saved to ./saved_images/generated_image_Waterville Brown Tail 2022-99.png\n",
      "Image saved to ./saved_images/generated_image_Waterville Brown Tail 2022-64.png\n",
      "Image saved to ./saved_images/generated_image_Waterville Brown Tail 2022-4746.png\n",
      "Image saved to ./saved_images/generated_image_Waterville Brown Tail 2022-129.png\n",
      "Image saved to ./saved_images/generated_image_Waterville Brown Tail 2022-74.png\n",
      "Image saved to ./saved_images/generated_image_Waterville Brown Tail 2022-4744.png\n",
      "Image saved to ./saved_images/generated_image_Waterville Brown Tail 2022-49.png\n",
      "Image saved to ./saved_images/generated_image_Waterville Brown Tail 2022-4742.png\n",
      "Image saved to ./saved_images/generated_image_Waterville Brown Tail 2022-134.png\n",
      "Image saved to ./saved_images/generated_image_Waterville Brown Tail 2022-79.png\n",
      "Image saved to ./saved_images/generated_image_Waterville Brown Tail 2022-4736.png\n",
      "All images have been processed.\n"
     ]
    }
   ],
   "source": [
    "'''\n",
    "This function tests the GAN by inputing test Drone captured images from folder 'test_drone_images'\n",
    "into the generator and saves those images to './saved_images'\n",
    "'''\n",
    "\n",
    "# # Call the function\n",
    "# for image in drone_images.\n",
    "\n",
    "for filename in os.listdir('test_drone_images'):\n",
    "    # Construct the full file path\n",
    "    img_path = os.path.join('test_drone_images', filename)\n",
    "\n",
    "    # Check if the file is an image (optional, based on file extension)\n",
    "    if img_path.lower().endswith(('.png', '.jpg', '.jpeg', '.bmp', '.gif')):\n",
    "        # Process the image\n",
    "        predict(img_path)\n",
    "    else:\n",
    "        print(f\"Skipped non-image file: {filename}\")\n",
    "\n",
    "print(\"All images have been processed.\")"
   ]
  },
  {
   "cell_type": "code",
   "execution_count": null,
   "metadata": {
    "colab": {
     "base_uri": "https://localhost:8080/",
     "height": 216
    },
    "executionInfo": {
     "elapsed": 712,
     "status": "error",
     "timestamp": 1713910365938,
     "user": {
      "displayName": "Henry Landay",
      "userId": "09240157530199771829"
     },
     "user_tz": 240
    },
    "id": "LfZAYWJKEdmP",
    "outputId": "2c002309-af44-4c82-c133-52735acbb957"
   },
   "outputs": [],
   "source": []
  }
 ],
 "metadata": {
  "accelerator": "GPU",
  "colab": {
   "gpuType": "T4",
   "provenance": []
  },
  "kernelspec": {
   "display_name": "Python 3 (ipykernel)",
   "language": "python",
   "name": "python3"
  },
  "language_info": {
   "codemirror_mode": {
    "name": "ipython",
    "version": 3
   },
   "file_extension": ".py",
   "mimetype": "text/x-python",
   "name": "python",
   "nbconvert_exporter": "python",
   "pygments_lexer": "ipython3",
   "version": "3.9.16"
  }
 },
 "nbformat": 4,
 "nbformat_minor": 4
}
